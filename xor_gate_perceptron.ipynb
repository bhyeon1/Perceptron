{
  "nbformat": 4,
  "nbformat_minor": 0,
  "metadata": {
    "colab": {
      "provenance": [],
      "authorship_tag": "ABX9TyPdSGcoMCzOuOhxjSYEpIeN",
      "include_colab_link": true
    },
    "kernelspec": {
      "name": "python3",
      "display_name": "Python 3"
    },
    "language_info": {
      "name": "python"
    }
  },
  "cells": [
    {
      "cell_type": "markdown",
      "metadata": {
        "id": "view-in-github",
        "colab_type": "text"
      },
      "source": [
        "<a href=\"https://colab.research.google.com/github/bhyeon1/Perceptron/blob/main/xor_gate_perceptron.ipynb\" target=\"_parent\"><img src=\"https://colab.research.google.com/assets/colab-badge.svg\" alt=\"Open In Colab\"/></a>"
      ]
    },
    {
      "cell_type": "code",
      "execution_count": 46,
      "metadata": {
        "colab": {
          "base_uri": "https://localhost:8080/"
        },
        "id": "wCRZjmF1GUUb",
        "outputId": "e1f9c364-92e7-4f0e-a9bf-5086b1fac4fd"
      },
      "outputs": [
        {
          "output_type": "stream",
          "name": "stdout",
          "text": [
            "Epoch 1000/50000 - Total Error: 1.009209\n",
            "Epoch 2000/50000 - Total Error: 1.009013\n",
            "Epoch 3000/50000 - Total Error: 1.008832\n",
            "Epoch 4000/50000 - Total Error: 1.008666\n",
            "Epoch 5000/50000 - Total Error: 1.008512\n",
            "Epoch 6000/50000 - Total Error: 1.008368\n",
            "Epoch 7000/50000 - Total Error: 1.008229\n",
            "Epoch 8000/50000 - Total Error: 1.008085\n",
            "Epoch 9000/50000 - Total Error: 1.007921\n",
            "Epoch 10000/50000 - Total Error: 1.007708\n",
            "Epoch 11000/50000 - Total Error: 1.007363\n",
            "Epoch 12000/50000 - Total Error: 1.006610\n",
            "Epoch 13000/50000 - Total Error: 1.003962\n",
            "Epoch 14000/50000 - Total Error: 0.985519\n",
            "Epoch 15000/50000 - Total Error: 0.867651\n",
            "Epoch 16000/50000 - Total Error: 0.729481\n",
            "Epoch 17000/50000 - Total Error: 0.604269\n",
            "Epoch 18000/50000 - Total Error: 0.221379\n",
            "Epoch 19000/50000 - Total Error: 0.071256\n",
            "Epoch 20000/50000 - Total Error: 0.036965\n",
            "Epoch 21000/50000 - Total Error: 0.024008\n",
            "Epoch 22000/50000 - Total Error: 0.017493\n",
            "Epoch 23000/50000 - Total Error: 0.013644\n",
            "Epoch 24000/50000 - Total Error: 0.011128\n",
            "Epoch 25000/50000 - Total Error: 0.009366\n",
            "Epoch 26000/50000 - Total Error: 0.008067\n",
            "Epoch 27000/50000 - Total Error: 0.007073\n",
            "Epoch 28000/50000 - Total Error: 0.006290\n",
            "Epoch 29000/50000 - Total Error: 0.005658\n",
            "Epoch 30000/50000 - Total Error: 0.005137\n",
            "Epoch 31000/50000 - Total Error: 0.004701\n",
            "Epoch 32000/50000 - Total Error: 0.004331\n",
            "Epoch 33000/50000 - Total Error: 0.004014\n",
            "Epoch 34000/50000 - Total Error: 0.003739\n",
            "Epoch 35000/50000 - Total Error: 0.003497\n",
            "Epoch 36000/50000 - Total Error: 0.003285\n",
            "Epoch 37000/50000 - Total Error: 0.003096\n",
            "Epoch 38000/50000 - Total Error: 0.002927\n",
            "Epoch 39000/50000 - Total Error: 0.002775\n",
            "Epoch 40000/50000 - Total Error: 0.002637\n",
            "Epoch 41000/50000 - Total Error: 0.002513\n",
            "Epoch 42000/50000 - Total Error: 0.002399\n",
            "Epoch 43000/50000 - Total Error: 0.002295\n",
            "Epoch 44000/50000 - Total Error: 0.002199\n",
            "Epoch 45000/50000 - Total Error: 0.002111\n",
            "Epoch 46000/50000 - Total Error: 0.002029\n",
            "Epoch 47000/50000 - Total Error: 0.001954\n",
            "Epoch 48000/50000 - Total Error: 0.001883\n",
            "Epoch 49000/50000 - Total Error: 0.001818\n",
            "Epoch 50000/50000 - Total Error: 0.001756\n",
            "\n",
            "XOR Gate Test (with Hidden Layer):\n",
            "Input: [0 0], Predicted: 0.0187, Binary: 0\n",
            "Input: [0 1], Predicted: 0.9801, Binary: 1\n",
            "Input: [1 0], Predicted: 0.9801, Binary: 1\n",
            "Input: [1 1], Predicted: 0.0247, Binary: 0\n"
          ]
        }
      ],
      "source": [
        "# ---XOR GATE 학습---\n",
        "''' import numpy as np\n",
        "import matplotlib.pyplot as plt\n",
        "\n",
        "class Perceptron:\n",
        "    def __init__(self, input_size, lr=0.1, epochs=10000):\n",
        "        self.weights = np.zeros(input_size)\n",
        "        self.bias = 0\n",
        "        self.lr = lr\n",
        "        self.epochs = epochs\n",
        "        self.errors = []\n",
        "\n",
        "    def activation(self, x):\n",
        "        return np.where(x > 0, 1, 0)\n",
        "\n",
        "    def predict(self, x):\n",
        "        linear_output = np.dot(x, self.weights) + self.bias\n",
        "        return self.activation(linear_output)\n",
        "\n",
        "    def train(self, X, y):\n",
        "        for epoch in range(self.epochs):\n",
        "            total_error = 0\n",
        "            for xi, target in zip(X, y):\n",
        "                prediction = self.predict(xi)\n",
        "                update = self.lr * (target - prediction)\n",
        "                self.weights += update * xi\n",
        "                self.bias += update\n",
        "                total_error += int(update != 0.0)\n",
        "            self.errors.append(total_error)\n",
        "            print(f\"Epoch {epoch + 1}/{self.epochs} - Total Error: {total_error}\")\n",
        "\n",
        "# XOR 게이트 데이터\n",
        "x_xor = np.array([[0,0], [0,1], [1,0], [1,1]])\n",
        "y_xor = np.array([0,1,1,0])\n",
        "\n",
        "# 퍼셉트론 모델 훈련\n",
        "ppn_xor = Perceptron(input_size=2)\n",
        "ppn_xor.train(x_xor, y_xor)\n",
        "\n",
        "# 예측 결과 확인\n",
        "print(\"\\nXOR Gate Test:\")\n",
        "for x in x_xor:\n",
        "  print(f\"Input: {x}, Predicted Output: {ppn_xor.predict(x)}\") '''\n",
        "\n",
        "import numpy as np\n",
        "import matplotlib.pyplot as plt\n",
        "\n",
        "class MLP: # 다중층 퍼셉트론\n",
        "    def __init__(self, input_size, hidden_size, output_size, lr=0.05, epochs=50000):\n",
        "        self.lr = lr\n",
        "        self.epochs = epochs\n",
        "        self.errors = []\n",
        "\n",
        "        # 가중치 초기화: 작은 난수\n",
        "        self.weights_input_hidden = np.random.randn(input_size, hidden_size) * 0.01  # 생성된 난수들을 0.01을 곱한 작은 값으로 스케일링\n",
        "        self.bias_hidden = np.zeros((1, hidden_size))                                # sigmoid 함수의 기울기가 0이 되는 '포화' 현상을 초기 학습에서 방지\n",
        "\n",
        "        self.weights_hidden_output = np.random.randn(hidden_size, output_size) * 0.01\n",
        "        self.bias_output = np.zeros((1, output_size))\n",
        "\n",
        "    def sigmoid(self, x):               # sigmoid 함수 (비선형 이진 분류 활성화 함수) : 값이 0.5 이상일 경우, 1로 판단.\n",
        "        x = np.clip(x, -500, 500)       # overflow 방지\n",
        "        return 1 / (1 + np.exp(-x))     # hidden layer를 여러개 쌓아도 활성화 함수가 선형이면 비선형 연산은 불가능 (XOR 등)\n",
        "\n",
        "    def sigmoid_derivative(self, x):    # sigmoid 기울기 계산 (미분 값)\n",
        "        return x * (1 - x)\n",
        "\n",
        "    def predict(self, x):\n",
        "        # 1. 입력층 -> 은닉층 계산\n",
        "        x = x.reshape(1, -1)            # 입력 x를 (1, input_size) 형태의 2차원 배열로 변환 (행렬 연산 준비)\n",
        "        hidden_input = np.dot(x, self.weights_input_hidden) + self.bias_hidden  # 입력 x와 input, hidden 가중치를 행렬 곱 한 후, hidden 편향을 더함.\n",
        "        hidden_output = self.sigmoid(hidden_input)\n",
        "\n",
        "        # 2. 은닉충 -> 출력층 계산\n",
        "        output_input = np.dot(hidden_output, self.weights_hidden_output) + self.bias_output\n",
        "        output = self.sigmoid(output_input)\n",
        "        return output[0, 0]  # 스칼라 반환\n",
        "\n",
        "    def train(self, X, y):\n",
        "        y = y.reshape(-1, 1)  # (4, 1) 형태로\n",
        "\n",
        "        for epoch in range(self.epochs):\n",
        "            total_error = 0\n",
        "            for xi, target in zip(X, y):\n",
        "                xi = xi.reshape(1, -1)   # (1, 2)\n",
        "                target = target.reshape(1, -1)  # (1, 1)\n",
        "\n",
        "                # 순방향 전파 : 각 층의 입력 및 출력 값이 저장.\n",
        "                # hidden layer\n",
        "                hidden_input = np.dot(xi, self.weights_input_hidden) + self.bias_hidden # input 가중 합 연산\n",
        "                hidden_output = self.sigmoid(hidden_input)  # 활성화 함수인 sigmoid 함수를 통과하여 hidden layer의 출력 생성.\n",
        "\n",
        "                output_input = np.dot(hidden_output, self.weights_hidden_output) + self.bias_output # hidden 가중 합 연산\n",
        "                output = self.sigmoid(output_input)\n",
        "\n",
        "                # 오류 계산 : MSE를 사용하여 예측과 정답 사이의 오차를 계산.\n",
        "                error = target - output\n",
        "                total_error += np.sum(error ** 2)  # Loss funcion으로 Mean Square Error 사용. 학습이 진행될수록 이 값을 줄이는 것이 목표.\n",
        "\n",
        "                # 역방향 전파\n",
        "                delta_output = error * self.sigmoid_derivative(output) # 출력층의 오류 기울기 계산\n",
        "                delta_hidden = np.dot(delta_output, self.weights_hidden_output.T) * self.sigmoid_derivative(hidden_output) # 은닉층의 오류 기울기 계산\n",
        "\n",
        "                # 가중치 & 편향 업데이트 : 개선된 기울기를 사용하여 업데이트\n",
        "                self.weights_hidden_output += self.lr * np.dot(hidden_output.T, delta_output)\n",
        "                self.bias_output += self.lr * delta_output\n",
        "\n",
        "                self.weights_input_hidden += self.lr * np.dot(xi.T, delta_hidden)\n",
        "                self.bias_hidden += self.lr * delta_hidden\n",
        "\n",
        "            self.errors.append(total_error)\n",
        "            if (epoch + 1) % 1000 == 0:\n",
        "                print(f\"Epoch {epoch+1}/{self.epochs} - Total Error: {total_error:.6f}\")\n",
        "\n",
        " # XOR 데이터\n",
        "x_xor = np.array([[0,0], [0,1], [1,0], [1,1]])\n",
        "y_xor = np.array([0,1,1,0])\n",
        "\n",
        "# MLP 모델 생성 및 학습\n",
        "mlp = MLP(input_size=2, hidden_size=2, output_size=1, lr=0.1, epochs=50000)\n",
        "mlp.train(x_xor, y_xor)\n",
        "\n",
        "# 예측 확인\n",
        "print(\"\\nXOR Gate Test (with Hidden Layer):\")\n",
        "for x in x_xor:\n",
        "    out = mlp.predict(x)\n",
        "    print(f\"Input: {x}, Predicted: {out:.4f}, Binary: {int(out > 0.5)}\")"
      ]
    },
    {
      "cell_type": "code",
      "source": [
        "# ---경계 결정 시각화---\n",
        "from matplotlib.colors import ListedColormap\n",
        "\n",
        "def plot_decision_boundary(X, y, model):\n",
        "    cmap_light = ListedColormap(['#FFAAAA', '#AAAAFF'])\n",
        "    cmap_bold = ListedColormap(['#FF0000', '#0000FF'])\n",
        "\n",
        "    h = .02 # mesh grid 간격\n",
        "    x_min, x_max = X[:, 0].min() - 1, X[:, 0].max() + 1\n",
        "    y_min, y_max = X[:, 1].min() - 1, X[:, 1].max() + 1\n",
        "    xx, yy = np.meshgrid(np.arange(x_min, x_max, h), np.arange(y_min, y_max, h))\n",
        "\n",
        "    input_grid = np.c_[xx.ravel(), yy.ravel()]\n",
        "    Z = np.array([int(model.predict(xi) > 0.5) for xi in input_grid])\n",
        "    Z = Z.reshape(xx.shape)\n",
        "\n",
        "    plt.figure()\n",
        "    plt.pcolormesh(xx, yy, Z, cmap=cmap_light)\n",
        "\n",
        "    #실제 데이터 포인트 표시\n",
        "    plt.scatter(X[:, 0], X[:, 1], c=y, cmap=cmap_bold, edgecolor='k', s=100, marker='o')\n",
        "    plt.xlabel('Input 1')\n",
        "    plt.ylabel('Input 2')\n",
        "    plt.title('MLP Decision Boundary')\n",
        "    plt.show()\n",
        "\n",
        "# XOR 게이트 결정 경계 시각화\n",
        "plot_decision_boundary(x_xor, y_xor, mlp)"
      ],
      "metadata": {
        "colab": {
          "base_uri": "https://localhost:8080/",
          "height": 472
        },
        "id": "2QBFV0h9GX-P",
        "outputId": "b3dba25c-710e-42c3-b02f-e0591f474f44"
      },
      "execution_count": 47,
      "outputs": [
        {
          "output_type": "display_data",
          "data": {
            "text/plain": [
              "<Figure size 640x480 with 1 Axes>"
            ],
            "image/png": "[encoded data removed]"
          },
          "metadata": {}
        }
      ]
    },
    {
      "cell_type": "code",
      "source": [
        "# ---오류 시각화---\n",
        "'''plt.figure(figsize=(8, 5))\n",
        "plt.plot(range(1, len(ppn_xor.errors) + 1), ppn_xor.errors, marker='o')\n",
        "plt.xlabel('Epochs')\n",
        "plt.ylabel('Number of Updates')\n",
        "plt.title('Perceptron Learning Error Over Epochs (XOR Gate)')\n",
        "plt.grid(True)\n",
        "plt.show()'''\n",
        "\n",
        "# 학습 오류 시각화\n",
        "plt.plot(range(len(mlp.errors)), mlp.errors)\n",
        "plt.title(\"MLP Training Error (XOR)\")\n",
        "plt.xlabel(\"Epochs\")\n",
        "plt.ylabel(\"Error\")\n",
        "plt.grid(True)\n",
        "plt.show()"
      ],
      "metadata": {
        "id": "pajF9Y7HGYAc",
        "colab": {
          "base_uri": "https://localhost:8080/",
          "height": 472
        },
        "outputId": "200ab436-3970-4814-d46a-39096e5f3079"
      },
      "execution_count": 48,
      "outputs": [
        {
          "output_type": "display_data",
          "data": {
            "text/plain": [
              "<Figure size 640x480 with 1 Axes>"
            ],
            "image/png": "[encoded data removed]"
          },
          "metadata": {}
        }
      ]
    },
    {
      "cell_type": "code",
      "source": [],
      "metadata": {
        "id": "v8aal6Moi8C-"
      },
      "execution_count": 48,
      "outputs": []
    }
  ]
}